{
 "cells": [
  {
   "cell_type": "markdown",
   "metadata": {},
   "source": [
    "<h1 align=\"center\"><font size=\"5\">Report for Capstone Project - The Battle of Neighborhoods (Week 2)</font></h1>"
   ]
  },
  {
   "cell_type": "markdown",
   "metadata": {},
   "source": [
    "### 1. Introduction"
   ]
  },
  {
   "cell_type": "markdown",
   "metadata": {},
   "source": [
    "#### 1.1 Background"
   ]
  },
  {
   "cell_type": "markdown",
   "metadata": {},
   "source": [
    "Food access is a primary example of how a poor neighborhood can hinder health. In the United States, we are paying increasing attention to lack of access to healthy, affordable foods. We have good reasons to be paying attention to this issue: Over one-third of American adults are obese, and 15 percent of households are food insecure."
   ]
  },
  {
   "cell_type": "markdown",
   "metadata": {},
   "source": [
    "#### 1.2 Problem"
   ]
  },
  {
   "cell_type": "markdown",
   "metadata": {},
   "source": [
    "As people usually don't want to travel 10 km to eat, they usually chose restaurants in their borough. In order to give relevant food to the customers' taste, we need to know which kind of food they like so we should solve this question : What kind of food could be profitable to sell in a certain borough according to what is currently being sold in this borough?"
   ]
  },
  {
   "cell_type": "markdown",
   "metadata": {},
   "source": [
    "#### 1.3 Interest"
   ]
  },
  {
   "cell_type": "markdown",
   "metadata": {},
   "source": [
    "Understanding their eating behaviour to know which kind of food they like to eat or which kind of food they would like to see in that borough is a key component to being a good restaurant. \n",
    "The stakeholders will then be able to see the credibility of a business restaurant client that wants to sell in a certain borough with that analysis and will be able to decide to invest in it or not."
   ]
  },
  {
   "cell_type": "markdown",
   "metadata": {},
   "source": [
    "### 2. Data acquisition and cleaning"
   ]
  },
  {
   "cell_type": "markdown",
   "metadata": {},
   "source": [
    "#### 2.1 Data sources"
   ]
  },
  {
   "cell_type": "markdown",
   "metadata": {},
   "source": [
    "First we will get the list of london boroughs and their coordinates on Wikipedia with this URL: https://en.wikipedia.org/wiki/List_of_London_boroughs with web scraping. Then we will get the Foursquare API location data to get relevant information about which category of restaurant they have in that borough. Once we got all that information, we will add a dataset from https://data.london.gov.uk/dataset/london-borough-profiles to get more information on that borough (financial status, employment rate, happiness score, etc).\n",
    "For example, for the borough Bexley, I will have all type of food they currently sell in those restaurants and several financial information on that borough. I will then look at the similar borough that are in the same cluster and see if they have certain type of food that are  not in Bexley. This represents an opportunity for those type of restaurants to sell in Bexley. Shareholders will then be able to invest in clients that want to sell those kind of food in Bexley because they know that those type of food are likely to be a success in that borough."
   ]
  },
  {
   "cell_type": "markdown",
   "metadata": {},
   "source": [
    "#### 2.2 Methodology & Data cleaning"
   ]
  },
  {
   "cell_type": "markdown",
   "metadata": {},
   "source": [
    "Getting the list of london boroughs with Wikipedia had no problem. The first problem encountered was with the use of the Foursquare API. Every call has a limit of results which is 100 elements. So we needed to call back again the request with an offset to get the rest of the results. On top of that if we didn't modify the latitude and longitude coordinates, we would always get the same results so we also needed to iterate in a for loop and slightly modify the distance. I chose to give an offset of 100 meters of distance and I used this website for converting distances to latitude and longitude coordinates: https://en.wikipedia.org/wiki/Decimal_degrees.\n",
    "With that, I got all the restaurants I could find with this API in the London boroughs. Then, I had to group them all by their borough (I used one-hot encoding to list all categories of food in a borough) and count them all by borough (I saved the count in a dictionary). There were venues with the same name and same restaurant category of food but different longitude and latitude coordinates so I decided to group them by getting the mean of each values. \n",
    "Here's an extract of what we should have : ![one_hot](extract_one_hot.JPG)\n",
    "The next step was to merge the data with the dataset from https://data.london.gov.uk/dataset/london-borough-profiles.\n",
    "However this dataset had missing values. I had to drop them because not only it had missing values but also because the area wasn't a borough, it was global information on a bigger zone such as United Kingdom for example. \n",
    "When looking closely at the dataset, I found that missing values were written as '.' on the cell so I changed them to np.nan then I decided to keep only the columns that didn't have null values. On top of that, I also decided to keep only the numeric columns (int or float) and exclude the object columns. This process reduced the columns size from 58 to 22.\n",
    "Now that the dataset was cleaned, I had to merge the two dataframes. Before going into clustering, I had to normalize my columns first so that the model can analyze every column as the same weight.\n",
    "For clustering, I chose to use a simple K-Means with a number of cluster set to 5 to see the spreading of the cluster."
   ]
  },
  {
   "cell_type": "markdown",
   "metadata": {},
   "source": [
    "### 3. Results"
   ]
  },
  {
   "cell_type": "markdown",
   "metadata": {},
   "source": [
    "Here's what it looks like: ![clustering](london_clusters.JPG)"
   ]
  },
  {
   "cell_type": "markdown",
   "metadata": {},
   "source": [
    "We can easily distinguish two main clusters separated by an outer circle (purple dots) and an inner circle (blue dots). The City of London is indeed found as one cluster because it is not a borough. Now, let's look at the population proportion in each clusters :\n",
    "![population](population_clusters.JPG)"
   ]
  },
  {
   "cell_type": "markdown",
   "metadata": {},
   "source": [
    "In order of the row we have : red dot, purple dots, blue dots, green dots, orange dot.\n",
    "It looks like there are only adults in the City of London (first cluster). As for the others, we can say that the more people are outside of the center the more likely they are to be of a younger generation. There are also less working people at the outer circle (purple dots) and less elderly people at the near inner circle (blue dots).\n",
    "\n",
    "Now that we see how people are spread over the clusters, let's take a look at the frequency of the restaurants in each cluster (I only showed the most frequent in the extract) :\n",
    "\n",
    "![cluster0](cluster_0.JPG)\n",
    "\n",
    "The first cluster (city of London) has all type of food globally, we can suppose that since this is the center of London, it is very well developed so there are all kind of clients. So any kind of food will be ok, it may even be smarter to introduce new type of food since people may get bored of always finding the same type of restaurants.\n",
    "\n",
    "![cluster1](cluster_1.JPG)\n",
    "\n",
    "The top 3 restaurants are Asian restaurants so the purple dots (outer circle). My hypothesis is that this area is a low cost food area because if we look at the proportion of working people it is very small compared to other clusters so people may not have enough money to buy costly food. In this area, I would suggest stakeholders to invest in low cost food restaurants.\n",
    "\n",
    "![cluster2](cluster_2.JPG)\n",
    "\n",
    "The top 4 restaurants are Turkish, Mediterranean, Modern European and Vegan food. So this area has a better standard of living in my opinion because there are more working people so business is flourishing in this area. I would aim for high quality food for this area.\n",
    "\n",
    "![cluster3](cluster_3.JPG)\n",
    "\n",
    "As for the green dots, as it is the second lowest proportion of working people, we can see that the top restaurants are less costly than others. Indeed a kebab restaurants isn't going to cost you a lot compared to a French restaurant for example. I would also aim for low cost food in this area.\n",
    "\n",
    "![cluster4](cluster_4.JPG)\n",
    "\n",
    "As for the last cluster (orange dot). It is very unique because of a type of food never seen in other clusters (Molecular Gastronomy Restaurant is a striking example). I would aim for innovative type of food in this area if I was a stakeholder."
   ]
  },
  {
   "cell_type": "markdown",
   "metadata": {},
   "source": [
    "### 4. Discussions"
   ]
  },
  {
   "cell_type": "markdown",
   "metadata": {},
   "source": [
    "To improve the model, I doubt that these are all the restaurants in London so I would merge the results with another API to get more restaurants as data.\n",
    "\n",
    "Another way to improve our model is to try to find the meaning of the category \"Restaurant\": Is it a general restaurant or the API doesn't have access to which type of food is served ?\n",
    "\n",
    "The assumption here is because this is the most frequent restaurant in this cluster, people should like that type of food. However, this study doesn't take into account the living standard of the borough or the price of food of a restaurant. This could be another way to improve the model."
   ]
  },
  {
   "cell_type": "markdown",
   "metadata": {},
   "source": [
    "### 5. Conclusion"
   ]
  },
  {
   "cell_type": "markdown",
   "metadata": {},
   "source": [
    "In this study, I analyzed the relationship of each borough of London to discover profitable type of food that can be sold in a specific borough. I identified 5 clusters by using features such as proportion of age of people, happiness score, average age, employment rate, type of food in this borough. This model can be useful to help stakeholders invest if a business client wants to sell a certain type of food in a borough."
   ]
  }
 ],
 "metadata": {
  "kernelspec": {
   "display_name": "Python",
   "language": "python",
   "name": "conda-env-python-py"
  },
  "language_info": {
   "codemirror_mode": {
    "name": "ipython",
    "version": 3
   },
   "file_extension": ".py",
   "mimetype": "text/x-python",
   "name": "python",
   "nbconvert_exporter": "python",
   "pygments_lexer": "ipython3",
   "version": "3.6.7"
  }
 },
 "nbformat": 4,
 "nbformat_minor": 4
}
